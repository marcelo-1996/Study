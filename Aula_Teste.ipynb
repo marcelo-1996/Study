{
  "nbformat": 4,
  "nbformat_minor": 0,
  "metadata": {
    "colab": {
      "name": "Aula_Teste.ipynb",
      "provenance": [],
      "authorship_tag": "ABX9TyPgDj2ivax2+2ERX3eTsLDi",
      "include_colab_link": true
    },
    "kernelspec": {
      "name": "python3",
      "display_name": "Python 3"
    }
  },
  "cells": [
    {
      "cell_type": "markdown",
      "metadata": {
        "id": "view-in-github",
        "colab_type": "text"
      },
      "source": [
        "<a href=\"https://colab.research.google.com/github/marcelo-1996/Study/blob/master/Aula_Teste.ipynb\" target=\"_parent\"><img src=\"https://colab.research.google.com/assets/colab-badge.svg\" alt=\"Open In Colab\"/></a>"
      ]
    },
    {
      "cell_type": "code",
      "metadata": {
        "id": "w1lQHjS-y20q",
        "colab_type": "code",
        "outputId": "b91797b2-22c5-4e99-99a8-65e6b748feca",
        "colab": {
          "base_uri": "https://localhost:8080/",
          "height": 35
        }
      },
      "source": [
        "8 + 8"
      ],
      "execution_count": 0,
      "outputs": [
        {
          "output_type": "execute_result",
          "data": {
            "text/plain": [
              "16"
            ]
          },
          "metadata": {
            "tags": []
          },
          "execution_count": 1
        }
      ]
    },
    {
      "cell_type": "code",
      "metadata": {
        "id": "ghL0ukL7zOvq",
        "colab_type": "code",
        "outputId": "31cc3e6e-bc8c-4bcc-c76d-61b4ac263b15",
        "colab": {
          "base_uri": "https://localhost:8080/",
          "height": 35
        }
      },
      "source": [
        "nome = \"marcelo\"\n",
        "print(nome)"
      ],
      "execution_count": 0,
      "outputs": [
        {
          "output_type": "stream",
          "text": [
            "marcelo\n"
          ],
          "name": "stdout"
        }
      ]
    },
    {
      "cell_type": "code",
      "metadata": {
        "id": "IOll00PRzsbV",
        "colab_type": "code",
        "outputId": "7bdd4b4e-1e0e-471a-f4b1-5928bc660e81",
        "colab": {
          "base_uri": "https://localhost:8080/",
          "height": 35
        }
      },
      "source": [
        "nome"
      ],
      "execution_count": 0,
      "outputs": [
        {
          "output_type": "execute_result",
          "data": {
            "text/plain": [
              "'marcelo'"
            ]
          },
          "metadata": {
            "tags": []
          },
          "execution_count": 3
        }
      ]
    },
    {
      "cell_type": "code",
      "metadata": {
        "id": "4NvXb57rzzh8",
        "colab_type": "code",
        "colab": {}
      },
      "source": [
        "idade = \"24\""
      ],
      "execution_count": 0,
      "outputs": []
    },
    {
      "cell_type": "code",
      "metadata": {
        "id": "9clPMTjVz7yp",
        "colab_type": "code",
        "outputId": "3b41dfbc-9c13-417e-da01-410c708e53bc",
        "colab": {
          "base_uri": "https://localhost:8080/",
          "height": 249
        }
      },
      "source": [
        "def soma_idade(idade):\n",
        "  print (\"dentro da funcao de idade \")\n",
        "  return idade + 6\n",
        "\n",
        "soma_idade(10)\n",
        "\n",
        "idade\n",
        "\n",
        "\n"
      ],
      "execution_count": 1,
      "outputs": [
        {
          "output_type": "stream",
          "text": [
            "dentro da funcao de idade \n"
          ],
          "name": "stdout"
        },
        {
          "output_type": "error",
          "ename": "NameError",
          "evalue": "ignored",
          "traceback": [
            "\u001b[0;31m---------------------------------------------------------------------------\u001b[0m",
            "\u001b[0;31mNameError\u001b[0m                                 Traceback (most recent call last)",
            "\u001b[0;32m<ipython-input-1-bdb7f4e58fca>\u001b[0m in \u001b[0;36m<module>\u001b[0;34m()\u001b[0m\n\u001b[1;32m      5\u001b[0m \u001b[0msoma_idade\u001b[0m\u001b[0;34m(\u001b[0m\u001b[0;36m10\u001b[0m\u001b[0;34m)\u001b[0m\u001b[0;34m\u001b[0m\u001b[0;34m\u001b[0m\u001b[0m\n\u001b[1;32m      6\u001b[0m \u001b[0;34m\u001b[0m\u001b[0m\n\u001b[0;32m----> 7\u001b[0;31m \u001b[0midade\u001b[0m\u001b[0;34m\u001b[0m\u001b[0;34m\u001b[0m\u001b[0m\n\u001b[0m\u001b[1;32m      8\u001b[0m \u001b[0;34m\u001b[0m\u001b[0m\n\u001b[1;32m      9\u001b[0m \u001b[0;34m\u001b[0m\u001b[0m\n",
            "\u001b[0;31mNameError\u001b[0m: name 'idade' is not defined"
          ]
        }
      ]
    },
    {
      "cell_type": "code",
      "metadata": {
        "id": "wMJcG5aE2KeA",
        "colab_type": "code",
        "colab": {}
      },
      "source": [
        "filme1 = \"bad boys\"\n",
        "filme2 = \"matrix\"\n",
        "filme3 = \"star wars\"\n",
        "\n",
        "filmes = [filme1 , filme2 , filme3]"
      ],
      "execution_count": 0,
      "outputs": []
    },
    {
      "cell_type": "code",
      "metadata": {
        "id": "UL2WCqYE2W-s",
        "colab_type": "code",
        "outputId": "f3c5580d-8d24-4a4f-8576-c0cf6c655e03",
        "colab": {
          "base_uri": "https://localhost:8080/",
          "height": 35
        }
      },
      "source": [
        "filmes"
      ],
      "execution_count": 0,
      "outputs": [
        {
          "output_type": "execute_result",
          "data": {
            "text/plain": [
              "['bad boys', 'matrix', 'star wars']"
            ]
          },
          "metadata": {
            "tags": []
          },
          "execution_count": 101
        }
      ]
    },
    {
      "cell_type": "code",
      "metadata": {
        "id": "S6zdHYHF6WTx",
        "colab_type": "code",
        "outputId": "a75374ed-c3b7-4802-f32a-834f5b94fe36",
        "colab": {
          "base_uri": "https://localhost:8080/",
          "height": 135
        }
      },
      "source": [
        ""
      ],
      "execution_count": 0,
      "outputs": [
        {
          "output_type": "error",
          "ename": "SyntaxError",
          "evalue": "ignored",
          "traceback": [
            "\u001b[0;36m  File \u001b[0;32m\"<ipython-input-80-26926c8194da>\"\u001b[0;36m, line \u001b[0;32m3\u001b[0m\n\u001b[0;31m    for filme in filmes_withfor\u001b[0m\n\u001b[0m                               ^\u001b[0m\n\u001b[0;31mSyntaxError\u001b[0m\u001b[0;31m:\u001b[0m invalid syntax\n"
          ]
        }
      ]
    },
    {
      "cell_type": "code",
      "metadata": {
        "id": "qSw6Gy0j6xza",
        "colab_type": "code",
        "outputId": "0e453a88-42b4-46de-ada7-0205da07173e",
        "colab": {
          "base_uri": "https://localhost:8080/",
          "height": 145
        }
      },
      "source": [
        "for filme in filmes:\n",
        "  print(filme)\n",
        "  print(\"...\")\n",
        "print(\"estou fora\")\n"
      ],
      "execution_count": 0,
      "outputs": [
        {
          "output_type": "stream",
          "text": [
            "bad boys\n",
            "...\n",
            "matrix\n",
            "...\n",
            "star war\n",
            "...\n",
            "estou fora\n"
          ],
          "name": "stdout"
        }
      ]
    },
    {
      "cell_type": "code",
      "metadata": {
        "id": "YAtRFIn5-OIp",
        "colab_type": "code",
        "colab": {}
      },
      "source": [
        "def imprime_filmes(filmes):\n",
        "  print(\"filmes para assistir\")\n",
        "  for filme in filmes:\n",
        "    print(filme)\n",
        " "
      ],
      "execution_count": 0,
      "outputs": []
    },
    {
      "cell_type": "code",
      "metadata": {
        "id": "V9i5lXe1_Cyt",
        "colab_type": "code",
        "outputId": "a331da26-be05-41ce-b173-338a91250a7a",
        "colab": {
          "base_uri": "https://localhost:8080/",
          "height": 90
        }
      },
      "source": [
        "imprime_filmes(filmes)"
      ],
      "execution_count": 0,
      "outputs": [
        {
          "output_type": "stream",
          "text": [
            "filmes para assistir\n",
            "bad boys\n",
            "matrix\n",
            "star wars\n"
          ],
          "name": "stdout"
        }
      ]
    },
    {
      "cell_type": "code",
      "metadata": {
        "id": "d_193lEoViIl",
        "colab_type": "code",
        "colab": {}
      },
      "source": [
        "dados ={\"nome\" : \"marcelo\" ,\n",
        " \"idade\" : \"18\" ,\n",
        " \"empresa\" : \"weel\"}"
      ],
      "execution_count": 0,
      "outputs": []
    },
    {
      "cell_type": "code",
      "metadata": {
        "id": "eI86YobSiH6K",
        "colab_type": "code",
        "outputId": "b23f207b-ca49-4cc7-bba6-2b13cd83539c",
        "colab": {
          "base_uri": "https://localhost:8080/",
          "height": 35
        }
      },
      "source": [
        "dados[\"empresa\"]"
      ],
      "execution_count": 0,
      "outputs": [
        {
          "output_type": "execute_result",
          "data": {
            "text/plain": [
              "'weel'"
            ]
          },
          "metadata": {
            "tags": []
          },
          "execution_count": 117
        }
      ]
    },
    {
      "cell_type": "code",
      "metadata": {
        "id": "GDKl97Vmiy9a",
        "colab_type": "code",
        "colab": {}
      },
      "source": [
        "contato = ('marcelo' , '952317764')"
      ],
      "execution_count": 0,
      "outputs": []
    },
    {
      "cell_type": "code",
      "metadata": {
        "id": "vubKk7UIjPVp",
        "colab_type": "code",
        "outputId": "4405d046-cf0a-4b44-8d2b-5343ded99ac7",
        "colab": {
          "base_uri": "https://localhost:8080/",
          "height": 35
        }
      },
      "source": [
        "contato"
      ],
      "execution_count": 0,
      "outputs": [
        {
          "output_type": "execute_result",
          "data": {
            "text/plain": [
              "('marcelo', '952317764')"
            ]
          },
          "metadata": {
            "tags": []
          },
          "execution_count": 126
        }
      ]
    }
  ]
}